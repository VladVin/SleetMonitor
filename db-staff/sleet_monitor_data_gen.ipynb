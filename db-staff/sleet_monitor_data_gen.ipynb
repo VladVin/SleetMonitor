{
 "cells": [
  {
   "cell_type": "code",
   "execution_count": 1,
   "metadata": {
    "collapsed": true
   },
   "outputs": [],
   "source": [
    "import random as rnd\n",
    "import numpy as np"
   ]
  },
  {
   "cell_type": "code",
   "execution_count": 25,
   "metadata": {
    "collapsed": true
   },
   "outputs": [],
   "source": [
    "count = 600\n",
    "ts_step = 7\n",
    "user_id = 'first_user_id'\n",
    "fall_status = -1"
   ]
  },
  {
   "cell_type": "code",
   "execution_count": 32,
   "metadata": {
    "collapsed": false,
    "scrolled": false
   },
   "outputs": [],
   "source": [
    "for i in range(count):\n",
    "    x = rnd.random() * 2.0 - 1.0\n",
    "    y = rnd.random() * 2.0 - 1.0\n",
    "    z = rnd.random() * 2.0 - 1.0\n",
    "    lat = 53.135235\n",
    "    lon = 28.234235\n",
    "    ts = 1452364670 - ts_step * count + i * ts_step\n",
    "    insert_q = 'insert into sensor_data (user_id, x, y, z, lat, lon, timestamp, fall_status) values(\\'%s\\', %f, %f, %f, %f, %f, %d, %d);' % (user_id, x, y, z, lat, lon, ts, fall_status)\n",
    "    print(insert_q)"
   ]
  },
  {
   "cell_type": "code",
   "execution_count": 2,
   "metadata": {
    "collapsed": false
   },
   "outputs": [],
   "source": [
    "np.set_printoptions(threshold=np.nan)\n",
    "np.arange(3010, 18010, 5)"
   ]
  },
  {
   "cell_type": "code",
   "execution_count": 7,
   "metadata": {
    "collapsed": false
   },
   "outputs": [],
   "source": [
    "count = 20\n",
    "f = open('C:/projects/android/SleetMonitor/ml/data/random.txt', 'w')\n",
    "for i in range(count):\n",
    "    frame_str = ''\n",
    "    for time in range(5, 1505, 5):\n",
    "        x = rnd.random() * 2.0 - 1.0\n",
    "        y = rnd.random() * 2.0 - 1.0\n",
    "        z = rnd.random() * 2.0 - 1.0\n",
    "        frame_str += str(time) + ': ' + str(x) + ' ' + str(y) + ' ' + str(z) + ' '\n",
    "    frame_str += 'false\\n'\n",
    "    f.write(frame_str)\n",
    "f.close()"
   ]
  },
  {
   "cell_type": "code",
   "execution_count": null,
   "metadata": {
    "collapsed": true
   },
   "outputs": [],
   "source": []
  }
 ],
 "metadata": {
  "kernelspec": {
   "display_name": "Python [Root]",
   "language": "python",
   "name": "Python [Root]"
  },
  "language_info": {
   "codemirror_mode": {
    "name": "ipython",
    "version": 2
   },
   "file_extension": ".py",
   "mimetype": "text/x-python",
   "name": "python",
   "nbconvert_exporter": "python",
   "pygments_lexer": "ipython2",
   "version": "2.7.12"
  }
 },
 "nbformat": 4,
 "nbformat_minor": 0
}
