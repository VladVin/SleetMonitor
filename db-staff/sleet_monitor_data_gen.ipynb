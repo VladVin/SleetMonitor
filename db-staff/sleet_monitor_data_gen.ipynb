{
 "cells": [
  {
   "cell_type": "code",
   "execution_count": 8,
   "metadata": {
    "collapsed": true
   },
   "outputs": [],
   "source": [
    "import random as rnd"
   ]
  },
  {
   "cell_type": "code",
   "execution_count": 9,
   "metadata": {
    "collapsed": true
   },
   "outputs": [],
   "source": [
    "count = 3000\n",
    "ts_step = 5\n",
    "user_id = 'first_user_id'\n",
    "fall_status = 0"
   ]
  },
  {
   "cell_type": "code",
   "execution_count": null,
   "metadata": {
    "collapsed": false,
    "scrolled": false
   },
   "outputs": [],
   "source": [
    "for i in range(count):\n",
    "    x = rnd.random() * 2.0 - 1.0\n",
    "    y = rnd.random() * 2.0 - 1.0\n",
    "    z = rnd.random() * 2.0 - 1.0\n",
    "    lat = 53.135235\n",
    "    lon = 28.234235\n",
    "    ts = 1452364670 - ts_step * count + i * ts_step\n",
    "    insert_q = 'insert into sensor_data (user_id, x, y, z, lat, lon, timestamp, fall_status) values(\\'%s\\', %f, %f, %f, %f, %f, %d, %d);' % (user_id, x, y, z, lat, lon, ts, fall_status)\n",
    "    print(insert_q)"
   ]
  }
 ],
 "metadata": {
  "kernelspec": {
   "display_name": "Python [Root]",
   "language": "python",
   "name": "Python [Root]"
  },
  "language_info": {
   "codemirror_mode": {
    "name": "ipython",
    "version": 2
   },
   "file_extension": ".py",
   "mimetype": "text/x-python",
   "name": "python",
   "nbconvert_exporter": "python",
   "pygments_lexer": "ipython2",
   "version": "2.7.12"
  }
 },
 "nbformat": 4,
 "nbformat_minor": 0
}
